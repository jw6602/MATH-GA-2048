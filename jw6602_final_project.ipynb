{
 "cells": [
  {
   "cell_type": "markdown",
   "metadata": {},
   "source": [
    "# Final Project Report"
   ]
  },
  {
   "cell_type": "markdown",
   "metadata": {},
   "source": [
    "Numerical Valuation of European and American Options under Kou’s Jump-Diffusion Model\n",
    "\n",
    "Reference: http://users.jyu.fi/~tene/papers/reportB11-06.pdf https://core.ac.uk/download/pdf/188329925.pdf\n",
    "\n",
    "Name: Junyu Wang"
   ]
  },
  {
   "cell_type": "markdown",
   "metadata": {},
   "source": [
    "## Preface"
   ]
  },
  {
   "cell_type": "markdown",
   "metadata": {},
   "source": [
    "In this report, I will provide all the computation details of the numerical scheme and recursion formulas which posted by Jari Toivanen, the author of the paper. And I will provide the derivation of the Crank-Nicolson scheme of the problem. Finally, I will do the numerical experiments to price the european option under Kou's model using Monte Carlo, Crank-Nicolson and Rannacher time-stepping scheme. "
   ]
  },
  {
   "cell_type": "markdown",
   "metadata": {},
   "source": [
    "## Background"
   ]
  },
  {
   "cell_type": "markdown",
   "metadata": {},
   "source": [
    "### 1. Definition of Jump-Diffusion model"
   ]
  },
  {
   "cell_type": "markdown",
   "metadata": {},
   "source": [
    "The jump diffusion model is a stochastic process that involves jumps and diffusion. It consists of two parts: a jump part and a diffusion part. The diffusion part is determined by the the driving Brownian motion and the jump part is determined by the Poisson process. The mathematical definition is as follows:\n",
    "\n",
    "$$\n",
    "\\frac{dx(t)}{x(t-)} = \\mu dt + \\sigma dW_t + d(\\sum_{j=1}^{N_t}{V_j})\n",
    "$$\n",
    "\n",
    "where $W_t$ is a standard Brownian motion, $N_t$ is a Poisson process with rate $\\lambda$ and $V_js$ are i.i.d random variables."
   ]
  },
  {
   "cell_type": "markdown",
   "metadata": {},
   "source": [
    "### 2. Pros"
   ]
  },
  {
   "cell_type": "markdown",
   "metadata": {},
   "source": [
    "Compared with diffusion process, the jump term makes the pricing model closer to the real world. According to our daily observations, it is obvious that for a diffusion model with continuous paths, its price follows a geometric Brownian motion in a fixed time interval. In this case, the probability of price changing a lot in a short period of time is very low. Therefore, the price we get in the diffusion model is lower than the actual price."
   ]
  },
  {
   "cell_type": "markdown",
   "metadata": {},
   "source": [
    "### 3. Application"
   ]
  },
  {
   "cell_type": "markdown",
   "metadata": {},
   "source": [
    "In modern finance, the model has been used to capture discontinuous behavior in asset pricing. Its application includes options, stocks, bonds, interest rate and etc."
   ]
  },
  {
   "cell_type": "markdown",
   "metadata": {},
   "source": [
    "## Introduction"
   ]
  },
  {
   "cell_type": "markdown",
   "metadata": {},
   "source": [
    "### 1. Kou's Jump-Diffusion Model"
   ]
  },
  {
   "cell_type": "markdown",
   "metadata": {},
   "source": [
    "Kou’s jump-diffusion model for the value of the underlying asset x is given by\n",
    "\n",
    "$$\n",
    "\\frac{dx(t)}{x(t-)} = \\mu dt + \\sigma dW_t + d(\\sum_{j=1}^{N_t}{V_j})\n",
    "$$\n",
    "\n",
    "where $W_t$ is a standard Brownian motion, $N_t$ is a Poisson process with rate $\\lambda$ and $V_js$ are i.i.d log-double-exponential random variables with probability density function\n",
    "\n",
    "$$\n",
    "f(y) = \n",
    "\\begin{cases}\n",
    "q\\alpha_2y^{\\alpha_2-1} & y < 1 \\\\\n",
    "p\\alpha_1y^{-\\alpha_1-1} & y \\geq 1 \\\\\n",
    "\\end{cases}\n",
    "$$\n",
    "\n",
    "It's a special case of jump diffusion model."
   ]
  },
  {
   "cell_type": "markdown",
   "metadata": {},
   "source": [
    "### 2. The PIDE Under Kou's Model"
   ]
  },
  {
   "cell_type": "markdown",
   "metadata": {},
   "source": [
    "Assume $v(t,x)$ follows Kou’s model the value of a European put option. We have\n",
    "\n",
    "$$\n",
    "\\begin{cases}\n",
    "v_t = -\\frac{1}{2}\\left(\\sigma(t,x)x\\right)^2v_xx - (r - \\lambda\\zeta)xv_x + (r + \\lambda)v - \\lambda\\int_{0}^{\\infty}{v(t,xy)f(y)}dy \\\\\n",
    "v(T,x) = g(x) = \\max{\\left(K - x, 0\\right)}\\\\\n",
    "v(t,0) = e^{-r(T-t)}K\\\\\n",
    "v(t,\\infty) = 0 \\\\\n",
    "\\end{cases}\n",
    "$$\n",
    "\n",
    "for all $t \\in [0,T)$ and $x \\in (0, \\infty)$"
   ]
  },
  {
   "cell_type": "markdown",
   "metadata": {},
   "source": [
    "## Mathematical Verification"
   ]
  },
  {
   "cell_type": "markdown",
   "metadata": {},
   "source": [
    "### 1. Discretization of Spatial Derivatives"
   ]
  },
  {
   "cell_type": "markdown",
   "metadata": {},
   "source": [
    "In this section, I will verify the numerical scheme posted by the author."
   ]
  },
  {
   "cell_type": "markdown",
   "metadata": {},
   "source": [
    "Denote $v(t,x_i)$ by $v_i$, we have\n",
    "\n",
    "$$\n",
    "\\begin{align}\n",
    "&\n",
    "-\\frac{1}{2}\\left(\\sigma(t,x_i)x_i\\right)^2v_{xx}\\left(t,x_i\\right) - \\left(r - \\lambda\\zeta\\right)x_iv_x\\left(t,x_i\\right) + \\left(r+\\lambda\\right)v\\left(t,x_i\\right) \\\\\n",
    "&\\approx -\\frac{1}{2}\\left(\\sigma(t,x_i)x_i\\right)^2 \\frac{\\frac{v_{i+1} - v_{i}}{\\Delta x_i} - \\frac{v_{i} - v_{i-1}}{\\Delta x_{i-1}}}{\\frac{\\Delta x_i + \\Delta x_{i-1}}{2}} - \\left(r - \\lambda\\zeta\\right)x_i\\frac{v_{i+1} - v_{i-1}}{\\Delta x_i + \\Delta x_{i-1}} + \\left(r + \\lambda\\right)v_i \\\\\n",
    "&= \\left(\\frac{\\left(r - \\lambda\\zeta\\right)x_i}{\\Delta x_{i-1} + \\Delta x_i} + \\frac{-\\left(\\sigma(t,x_i)x_i\\right)^2 \\Delta x_i}{\\left(\\Delta x_{i-1} + \\Delta x_{i}\\right)\\Delta x_{i-1} \\Delta x_{i}}\\right)\n",
    "v_{i-1} \n",
    "+ \\left(r + \\lambda - \\frac{\\left(\\sigma(t,x_i)x_i\\right)^2\\cdot-\\left(\\Delta x_{i-1} + \\Delta x_i\\right)}{\\left(\\Delta x_{i-1} + \\Delta x_{i}\\right)\\Delta x_{i-1} \\Delta x_{i}} \\right)\n",
    "v_i \\\\\n",
    "&+ \\left(-\\frac{\\left(r - \\lambda\\zeta\\right)x_i}{\\Delta x_{i-1} + \\Delta x_i} + \\frac{-\\left(\\sigma(t,x_i)x_i\\right)^2 \\Delta x_{i-1}}{\\left(\\Delta x_{i-1} + \\Delta x_{i}\\right)\\Delta x_{i-1} \\Delta x_{i}}\\right)\n",
    "v_{i+1} \\\\\n",
    "&= \\frac{\\left(r - \\lambda\\zeta\\right)x_i\\Delta x_{i-1} - \\left(\\sigma(t,x_i)x_i\\right)^2}{\\left(\\Delta x_{i-1} + \\Delta x_{i}\\right)\\Delta x_{i-1}}\n",
    "v_{i-1} \n",
    "+ \\left(r + \\lambda + \\frac{\\left(\\sigma(t,x_i)x_i\\right)^2}{\\Delta x_{i-1} \\Delta x_{i}} \\right)\n",
    "v_{i}\n",
    "+ \\frac{-\\left(r - \\lambda\\zeta\\right)x_i\\Delta x_{i} - \\left(\\sigma(t,x_i)x_i\\right)^2}{\\left(\\Delta x_{i-1} + \\Delta x_{i}\\right)\\Delta x_{i}}\n",
    "v_{i+1}\n",
    "\\\\\n",
    "\\end{align}\n",
    "$$\n",
    "  \n",
    "Then by adding artificial volatility as the author does, we can get:\n",
    "\n",
    "$$\n",
    "\\begin{align}\n",
    "D_{i,i-1} &= \\frac{\\left(r - \\lambda\\zeta\\right)x_i\\Delta x_{i-1} - \\left(\\hat{\\sigma}_i(t)x_i\\right)^2}{\\left(\\Delta x_{i-1} + \\Delta x_{i}\\right)\\Delta x_{i-1}} \\\\\n",
    "D_{i,i} &= r + \\lambda + \\frac{\\left(\\hat{\\sigma}_i(t)x_i\\right)^2}{\\Delta x_{i-1} \\Delta x_{i}} \\\\\n",
    "D_{i,i+1} &= \\frac{-\\left(r - \\lambda\\zeta\\right)x_i\\Delta x_{i} - \\left(\\hat{\\sigma}_i(t)x_i\\right)^2}{\\left(\\Delta x_{i-1} + \\Delta x_{i}\\right)\\Delta x_{i}} \\\\\n",
    "\\end{align}\n",
    "$$\n",
    "\n",
    "Complete the verification. (Seems the author has typos for this scheme.)"
   ]
  },
  {
   "cell_type": "markdown",
   "metadata": {},
   "source": [
    "### 2. Derivation of Recursion Formulas"
   ]
  },
  {
   "cell_type": "markdown",
   "metadata": {},
   "source": [
    "In this section, I will give the detailed derivation of the recursion formulas."
   ]
  },
  {
   "cell_type": "markdown",
   "metadata": {},
   "source": [
    "Use the notation in the papaer, we can know\n",
    "\n",
    "$$\n",
    "\\begin{align}\n",
    "I &= \\int_0^\\infty{v(t,z)f(z/x)/x}dz= I^+ + I^- \\\\\n",
    "I^- &= q\\alpha_2x^{-\\alpha_2}\\int_0^x{v(t,z)z^{\\alpha_2-1}}dz \\\\\n",
    "I^+ &= p\\alpha_1x^{\\alpha_1}\\int_x^\\infty{v(t,z)z^{-\\alpha_1-1}}dz \\\\\n",
    "I_i^- &= q\\alpha_2x^{-\\alpha_2}\\int_0^{x_i}{v(t,z)z^{\\alpha_2-1}}dz = \\sum_{j=0}^{i-1}{I_{i,j}^-} \\\\\n",
    "I_i^+ &= p\\alpha_1x^{\\alpha_1}\\int_{x_i}^\\infty{v(t,z)z^{-\\alpha_1-1}}dz = \\sum_{j=0}^{i-1}{I_{i,j}^+} \\\\\n",
    "I_{i,j}^- &= q\\alpha_2x^{-\\alpha_2}\\int_{x_j}^{x_{j+1}}{v(t,z)z^{\\alpha_2-1}}dz \\\\\n",
    "I_{i,j}^+ &= p\\alpha_1x^{\\alpha_1}\\int_{x_j}^{x_{j+1}}{v(t,z)z^{-\\alpha_1-1}}dz\n",
    "\\end{align}\n",
    "$$"
   ]
  },
  {
   "cell_type": "markdown",
   "metadata": {},
   "source": [
    "To approximate this integral, we use the linear interpolation for $v$ between grid points. For example, for $z \\in [x_j, x_{j+1}]$, we have\n",
    "\n",
    "$$\n",
    "v(t,x) \\approx \\frac{x_{j+1} - z}{\\Delta x_j}v(t,x_j) + \\frac{z - x_j}{\\Delta x_j}v(t,x_{j+1})\n",
    "$$"
   ]
  },
  {
   "cell_type": "markdown",
   "metadata": {},
   "source": [
    "Insert it into $I_{i,j}^-$, we have\n",
    "\n",
    "$$\n",
    "\\begin{align}\n",
    "I_{i,j}^- \n",
    "&\\approx A_{i,j}^- \\\\\n",
    "&= q\\alpha_2x_i^{-\\alpha_2}\\int_{x_j}^{x_{j+1}}{v(t,z)z^{\\alpha_2-1}}dz \\\\\n",
    "&= q\\alpha_2x_i^{-\\alpha_2}\\int_{x_j}^{x_{j+1}}{\\left(\\frac{x_{j+1} - z}{\\Delta x_j}v(t,x_j) + \\frac{z - x_j}{\\Delta x_j}v(t,x_{j+1})\\right)z^{\\alpha_2-1}}dz \\\\\n",
    "&= \\frac{q\\alpha_2x_i^{-\\alpha_2}}{\\Delta x_j} \\int_{x_j}^{x_{j+1}}{\\left(\\left(x_{j+1} - z\\right)v(t,x_j) + \\left(z - x_j\\right)v(t,x_{j+1})\\right)z^{\\alpha_2-1}}dz \\\\\n",
    "&= \\frac{q\\alpha_2x_i^{-\\alpha_2}}{\\Delta x_j}\\left(\\int_{x_j}^{x_{j+1}}{\\left(v(t,x_{j+1}) - v(t,x_j)\\right)z^{\\alpha_2}}dz + \\int_{x_j}^{x_{j+1}}{\\left(x_{j+1}v(t,x_j) - x_{j}v(t,x_{j+1})\\right)z^{\\alpha_2 - 1}}dz\\right) \\\\\n",
    "&= \\frac{q\\alpha_2x_i^{-\\alpha_2}}{\\Delta x_j}\\left(\\frac{\\left(v(t,x_{j+1}) - v(t,x_j)\\right)\\left(x_{j+1}^{\\alpha_2+1} - x_j^{\\alpha_2+1}\\right)}{\\alpha_2 + 1} + \\frac{\\left(x_{j+1}v(t,x_j) - x_{j}v(t,x_{j+1})\\right)\\left(x_{j+1}^{\\alpha_2} - x_j^{\\alpha_2}\\right)}{\\alpha_2}\\right) \\\\\n",
    "&= \\frac{qx_i^{-\\alpha_2}}{\\Delta x_j\\left(\\alpha_2 + 1\\right)}\\left(\\left(-\\alpha_2\\left(x_{j+1}^{\\alpha_2+1} - x_j^{\\alpha_2+1}\\right) + \\left(\\alpha_2 + 1\\right)x_{j+1}\\left(x_{j+1}^{\\alpha_2} - x_j^{\\alpha_2}\\right)\\right)v(t,x_j) + \\left(\\alpha_2\\left(x_{j+1}^{\\alpha_2+1} - x_j^{\\alpha_2+1}\\right) - \\left(\\alpha_2 + 1\\right)x_{j}\\left(x_{j+1}^{\\alpha_2} - x_j^{\\alpha_2}\\right)\\right)v(t,x_{j+1})\\right) \\\\\n",
    "&= \\frac{qx_i^{-\\alpha_2}}{\\Delta x_j\\left(\\alpha_2 + 1\\right)}\\left(\\left(\\alpha_2x_j^{\\alpha_2+1} + x_{j+1}^{\\alpha_2+1} - (\\alpha_2 + 1)x_{j+1}x_j^{\\alpha_2}\\right)v(t,x_j) + \\left(\\alpha_2x_{j+1}^{\\alpha_2+1} + x_{j}^{\\alpha_2+1} - (\\alpha_2 + 1)x_{j}x_{j+1}^{\\alpha_2}\\right)v(t,x_{j+1})\\right) \\\\\n",
    "&= \\frac{qx_i^{-\\alpha_2}}{\\Delta x_j\\left(\\alpha_2 + 1\\right)}\\left(\\left(x_{j+1}^{\\alpha_2+1} - (x_{j+1} + \\alpha_2\\Delta x_j)x_j^{\\alpha_2}\\right)v(t,x_j) + \\left(x_j^{\\alpha_2+1} - (x_j - \\alpha_2 \\Delta x_j)x_{j+1}^{\\alpha_2}\\right)v(t,x_{j+1})\\right) \\\\\n",
    "\\\\\n",
    "\\\\\n",
    "I_{i,0}^- &\\approx A_{i,0}^- \\\\\n",
    "&= \\frac{qx_i^{-\\alpha_2}}{\\Delta x_0\\left(\\alpha_2 + 1\\right)}\\left(\\left(x_{1}^{\\alpha_2+1} - (x_{1} + \\alpha_2\\Delta x_0)x_0^{\\alpha_2}\\right)v(t,0) + \\left(x_0^{\\alpha_2+1} - (x_0 - \\alpha_2 \\Delta x_0)x_{1}^{\\alpha_2}\\right)v(t,x_{1})\\right) \\\\\n",
    "&= \\frac{qx_i^{-\\alpha_2}}{x_1\\left(\\alpha_2 + 1\\right)}\\left(\\left(x_{1}^{\\alpha_2+1} - (x_{1} + \\alpha_2x_1)0^{\\alpha_2}\\right)v(t,0) + \\left(0^{\\alpha_2+1} - (0 - \\alpha_2 x_1)x_{1}^{\\alpha_2}\\right)v(t,x_{1})\\right) \\\\\n",
    "&= \\frac{qx_i^{-\\alpha_2}}{\\left(\\alpha_2 + 1\\right)}\\left(x_{1}^{\\alpha_2}v(t,0) + \\alpha_2 x_{1}^{\\alpha_2}v(t,x_{1})\\right) \\\\\n",
    "\\\\\n",
    "\\\\\n",
    "A_{i+1,j}^- &= \\frac{qx_{i+1}^{-\\alpha_2}}{\\Delta x_j\\left(\\alpha_2 + 1\\right)}\\left(\\left(x_{j+1}^{\\alpha_2+1} - (x_{j+1} + \\alpha_2\\Delta x_j)x_j^{\\alpha_2}\\right)v(t,x_j) + \\left(x_j^{\\alpha_2+1} - (x_j - \\alpha_2 \\Delta x_j)x_{j+1}^{\\alpha_2}\\right)v(t,x_{j+1})\\right) \\\\\n",
    "&= \\frac{x_{i+1}^{-\\alpha_2}}{x_{i}^{-\\alpha_2}}\\frac{qx_{i}^{-\\alpha_2}}{\\Delta x_j\\left(\\alpha_2 + 1\\right)}\\left(\\left(x_{j+1}^{\\alpha_2+1} - (x_{j+1} + \\alpha_2\\Delta x_j)x_j^{\\alpha_2}\\right)v(t,x_j) + \\left(x_j^{\\alpha_2+1} - (x_j - \\alpha_2 \\Delta x_j)x_{j+1}^{\\alpha_2}\\right)v(t,x_{j+1})\\right) \\\\\n",
    "&= \\left(\\frac{x_{i}}{x_{i+1}}\\right)^{\\alpha_2}A_{i,j}^-\n",
    "\\\\\n",
    "\\\\\n",
    "A_{i+1}^- \n",
    "&= \\sum_{j=0}^{i}{A_{i+1,j}^-} \\\\\n",
    "&= \\sum_{j=0}^{i}{A_{i+1,j}^-} + A_{i+1,i}^- \\\\\n",
    "&= \\sum_{j=0}^{i}{\\left(\\frac{x_{i}}{x_{i+1}}\\right)^{\\alpha_2}A_{i,j}^-} + A_{i+1,i}^- \\\\\n",
    "&= \\left(\\frac{x_{i}}{x_{i+1}}\\right)^{\\alpha_2}A_{i}^- + A_{i+1,i}^- \\\\\n",
    "\\end{align}\n",
    "$$\n",
    "\n",
    "Complete the verification."
   ]
  },
  {
   "cell_type": "markdown",
   "metadata": {},
   "source": [
    "### 3. Crank-Nicolson Derivation"
   ]
  },
  {
   "cell_type": "markdown",
   "metadata": {},
   "source": [
    "To approximate the integral term, we just use the difinition of the Riemann integral.\n",
    "\n",
    "$$\n",
    "\\begin{align}\n",
    "\\int_{0}^{\\infty}{v(t_k,x_iy)f(y)}dy &= \\int_0^\\infty{v(t_k,z)f(z/x_i)/x_i}dz \\\\\n",
    "&= q\\alpha_2x_i^{-\\alpha_2}\\int_0^{x_i}{v(t_k,z)z^{\\alpha_2-1}}dz + p\\alpha_1x_i^{\\alpha_1}\\int_{x_i}^\\infty{v(t_k,z)z^{-\\alpha_1-1}}dz \\\\\n",
    "&\\approx q\\alpha_2x_i^{-\\alpha_2}\\sum_{j=1}^{i}{v_{j,k}x_j^{\\alpha_2-1}\\Delta x_j} + p\\alpha_1x_i^{\\alpha_1}\\sum_{j=i+1}^{\\infty}{v_{j,k}x_j^{-\\alpha_1-1}\\Delta x_j} \\\\\n",
    "&= j_{i,k}^Tv_{:,k}\n",
    "\\end{align}\n",
    "$$"
   ]
  },
  {
   "cell_type": "markdown",
   "metadata": {},
   "source": [
    "$$\n",
    "\\begin{align}\n",
    "v_t &= -\\frac{1}{2}\\left(\\sigma(t,x)x\\right)^2v_xx - (r - \\lambda\\zeta)xv_x + (r + \\lambda)v - \\lambda\\int_{0}^{\\infty}{v(t,xy)f(y)}dy \\\\\n",
    "&\\Longrightarrow \\frac{v_{i,k+1} - v_{i,k}}{\\Delta t_k} = \\frac{1}{2}\\left(D_{i,i-1}(k)v_{i-1,k} + D_{i,i}(k)v_{i,k} + D_{i,i+1}(k)v_{i+1,k} \\right) + \\frac{1}{2}\\left(D_{i,i-1}(k+1)v_{i-1,k+1} + D_{i,i}(k+1)v_{i,k+1} + D_{i,i+1}(k+1)v_{i+1,k+1} \\right)\n",
    "- \\frac{\\lambda}{2}\\left(j_{i,k}^Tv_{:,k} + j_{i,k+1}^Tv_{:,k+1}\\right) \\\\\n",
    "&\\Longrightarrow\n",
    "\\left(-\\frac{\\Delta t_k}{2}D_{i,i-1}(k+1)\\right)v_{i-1,k+1} + \\left(-\\frac{\\Delta t_k}{2}D_{i,i}(k+1) + 1\\right)v_{i,k+1} + \\left(-\\frac{\\Delta t_k}{2}D_{i,i+1}(k+1)\\right)v_{i+1,k+1} + \\frac{\\lambda \\Delta t_k}{2}j_{i,k+1}^Tv_{:,k+1} = \\left(\\frac{\\Delta t_k}{2}D_{i,i-1}(k)\\right)v_{i-1,k} + \\left(1 + \\frac{\\Delta t_k}{2}D_{i,i}(k)\\right)v_{i,k} + \\left(\\frac{\\Delta t_k}{2}D_{i,i+1}(k)\\right)v_{i+1,k} - \\frac{\\lambda\\Delta t_k}{2}j_{i,k}^Tv_{:,k}\n",
    "\\end{align}\n",
    "$$"
   ]
  },
  {
   "cell_type": "markdown",
   "metadata": {},
   "source": [
    "We can write it in matrix form as follows.\n",
    "\n",
    "$$\n",
    "A\\mathbf{v}_{k+1} + J(k+1)\\mathbf{v}_{k+1} = B\\mathbf{v}_{k} + J(k)\\mathbf{v}_{k} + f\n",
    "$$"
   ]
  },
  {
   "cell_type": "markdown",
   "metadata": {},
   "source": [
    "where\n",
    "\n",
    "$$\n",
    "\\begin{align}\n",
    "A &=\n",
    "\\begin{bmatrix}\n",
    "1 - \\frac{\\Delta t_k}{2}D_{1,1}(k+1) & -\\frac{\\Delta t_k}{2}D_{1,2}(k+1) & 0 & \\cdots & 0\\\\\n",
    "-\\frac{\\Delta t_k}{2}D_{2,1}(k+1) & 1 - \\frac{\\Delta t_k}{2}D_{2,2}(k+1) & -\\frac{\\Delta t_k}{2}D_{2,3}(k+1) &  &  \\\\\n",
    "0 & -\\frac{\\Delta t_k}{2}D_{3,2}(k+1)  \\\\\n",
    "\\vdots  \\\\\n",
    " & & & & - \\frac{\\Delta t_k}{2}D_{n-1,n}(k+1)\\\\\n",
    "0 & & & - \\frac{\\Delta t_k}{2}D_{n,n-1}(k+1) & 1 - \\frac{\\Delta t_k}{2}D_{n,n}(k+1)\n",
    "\\end{bmatrix}\n",
    "\\\\\n",
    "\\\\\n",
    "B &= \n",
    "\\begin{bmatrix}\n",
    "1 + \\frac{\\Delta t_k}{2}D_{1,1}(k) & \\frac{\\Delta t_k}{2}D_{1,2}(k) & 0 & \\cdots & 0\\\\\n",
    "\\frac{\\Delta t_k}{2}D_{2,1}(k) & 1 + \\frac{\\Delta t_k}{2}D_{2,2}(k) & \\frac{\\Delta t_k}{2}D_{2,3}(k) &  &  \\\\\n",
    "0 & \\frac{\\Delta t_k}{2}D_{3,2}(k)  \\\\\n",
    "\\vdots  \\\\\n",
    " & & & &  \\frac{\\Delta t_k}{2}D_{n-1,n}(k)\\\\\n",
    "0 & & & \\frac{\\Delta t_k}{2}D_{n,n-1}(k) & 1 + \\frac{\\Delta t_k}{2}D_{n,n}(k)\n",
    "\\end{bmatrix}\n",
    "\\\\\n",
    "\\\\\n",
    "f &=\n",
    "\\begin{bmatrix}\n",
    "\\frac{\\Delta t_k}{2}\\left(D_{1,0}(k+1)e^{-r(T-t_{k+1})}K + D_{1,0}(k)e^{-r(T-t_{k})}K\\right) \\\\\n",
    "0 \\\\\n",
    "\\vdots \\\\\n",
    "\\vdots \\\\\n",
    "0 \\\\\n",
    "0 \\\\\n",
    "\\end{bmatrix}\n",
    "\\\\\n",
    "\\\\\n",
    "J(k) \n",
    "&= \n",
    "\\begin{bmatrix}\n",
    "0 & 0 & \\cdots & \\\\\n",
    "q\\alpha_2x_1^{-\\alpha_2}x_1^{\\alpha_2 - 1}\\Delta x_1 & p\\alpha_1x_1^{\\alpha_1}x_2^{-\\alpha_1 - 1}\\Delta x_2 & \\cdots &\n",
    "& \\\\\n",
    "q\\alpha_2x_2^{-\\alpha_2}x_1^{\\alpha_2 - 1}\\Delta x_1 & q\\alpha_2x_2^{-\\alpha_2}x_2^{\\alpha_2 - 1}\\Delta x_2 & p\\alpha_1x_2^{\\alpha_1}x_3^{-\\alpha_1 - 1}\\Delta x_3 & \\cdots \\\\\n",
    "\\vdots & \\\\\n",
    "q\\alpha_2x_n^{-\\alpha_2}x_1^{\\alpha_2 - 1}\\Delta x_1 & q\\alpha_2x_n^{-\\alpha_2}x_2^{\\alpha_2 - 1}\\Delta x_2 & \\cdots & p\\alpha_1x_n^{-\\alpha_2}x_n^{\\alpha_2 - 1}\\Delta x_n\n",
    "\\end{bmatrix}\n",
    "\\end{align}\n",
    "$$"
   ]
  },
  {
   "cell_type": "markdown",
   "metadata": {},
   "source": [
    "## Numerical Experiment"
   ]
  },
  {
   "cell_type": "code",
   "execution_count": 1,
   "metadata": {},
   "outputs": [],
   "source": [
    "import numpy as np\n",
    "import pandas as pd\n",
    "from scipy.optimize import fsolve\n",
    "import matplotlib.pyplot as plt\n",
    "import timeit"
   ]
  },
  {
   "cell_type": "code",
   "execution_count": 2,
   "metadata": {},
   "outputs": [],
   "source": [
    "def gen_space_path(n, X, gamma, K):\n",
    "    xs = []\n",
    "    eq = lambda beta: (1 + np.sinh(beta * (1 - gamma)) / np.sinh(beta * gamma)) * K - X\n",
    "    beta = fsolve(eq, 0.1)\n",
    "    for i in range(n+1):\n",
    "        s = i / n\n",
    "        xs.append((1 + np.sinh(beta * (s - gamma)) / np.sinh(beta * gamma)) * K)\n",
    "    return xs\n",
    "\n",
    "def gen_time_path(m, T, alpha):\n",
    "    ts = []\n",
    "    for i in range(m+1):\n",
    "        if i <= m - 4:\n",
    "            ts.append(((alpha ** (-i / (m - 2)) - 1)) * T / (alpha**(-1) - 1))\n",
    "        else:\n",
    "            ts.append((alpha ** (-(i + m - 4) / (2 * m - 4)) - 1) * T / (alpha**(-1) - 1))\n",
    "    return ts"
   ]
  },
  {
   "cell_type": "markdown",
   "metadata": {},
   "source": [
    "We will use same parameters to conduct the numerical experiment for the european option with constant volatility."
   ]
  },
  {
   "cell_type": "markdown",
   "metadata": {},
   "source": [
    "### 1. European put option"
   ]
  },
  {
   "cell_type": "code",
   "execution_count": 3,
   "metadata": {},
   "outputs": [],
   "source": [
    "# Import Data\n",
    "mu = 0\n",
    "sigma = 0.2\n",
    "r = 0\n",
    "T = 0.2\n",
    "X = 6\n",
    "K = 1\n",
    "lam = 0.2\n",
    "alpha_1 = 3\n",
    "alpha_2 = 2\n",
    "p = 0.5\n",
    "q = 1 - p\n",
    "ms = [6, 10, 18, 34, 66]\n",
    "ns = [40, 80, 160, 320, 640]\n",
    "alpha = 4\n",
    "gamma = 0.4\n",
    "\n",
    "\n",
    "zeta = p * alpha_1 / (alpha_1 - 1) + (1 - p) * alpha_2 / (alpha_2 + 1) - 1"
   ]
  },
  {
   "cell_type": "markdown",
   "metadata": {},
   "source": [
    "#### 1. Monte Carlo"
   ]
  },
  {
   "cell_type": "code",
   "execution_count": 4,
   "metadata": {},
   "outputs": [],
   "source": [
    "def kou_jump_diffusion(S_0, mu, sigma, p, q, alpha_1, alpha_2, lam, T, N):\n",
    "    # Simulate kou's jump diffusion process\n",
    "    # This is an one-time simulation\n",
    "    # S_0     = initial price\n",
    "    # mu      = mean value of Gaussian distribution\n",
    "    # sigma   = std of Gaussian distribution\n",
    "    # p       = parameter of log-double-exponential distribution\n",
    "    # q       = parameter of log-double-exponential distribution\n",
    "    # p + q   = 1\n",
    "    # alpha_1 = parameter of log-double-exponential distribution\n",
    "    # alpha_2 = parameter of log-double-exponential distribution\n",
    "    # lam     = rate for the Poisson process\n",
    "    # T       = final time\n",
    "    # N       = number of total steps\n",
    "    njump = np.random.poisson(lam*T)\n",
    "    t_jump = T * np.random.rand(njump)\n",
    "    u = np.random.binomial(1, p)\n",
    "    d = 1 - u\n",
    "    jump = np.sum(u * np.random.exponential(alpha_1, njump) - d * np.random.exponential(alpha_2, njump))\n",
    "    dt = T / N\n",
    "    std = np.sqrt(dt)\n",
    "    S = S_0\n",
    "    t = 0\n",
    "    while t < T:\n",
    "        dS = S * mu * dt + S * sigma * std * np.random.normal()\n",
    "        S += dS\n",
    "        t += dt\n",
    "    S += jump\n",
    "    return S"
   ]
  },
  {
   "cell_type": "code",
   "execution_count": 5,
   "metadata": {
    "scrolled": false
   },
   "outputs": [],
   "source": [
    "# Generate Paths for both time and space\n",
    "# Only use m = 6, n = 40 for Monte Carlo\n",
    "# Otherwise it will take too much time\n",
    "m = 6\n",
    "n = 40\n",
    "xs = gen_space_path(n, X, gamma, K)\n",
    "xs = np.array(xs)[:,0]\n",
    "ts = np.array(gen_time_path(m, T, alpha))\n",
    "\n",
    "# Monte Carlo\n",
    "niterations = 1000\n",
    "payouts = np.zeros(len(xs))\n",
    "start = timeit.default_timer()\n",
    "for i in range(len(xs)):\n",
    "    for _ in range(niterations):\n",
    "        final_price = kou_jump_diffusion(xs[i], 0, 0.2, p, 1-p, alpha_1, alpha_2, lam, T, 1000)\n",
    "        payouts[i] += max(K - final_price, 0)\n",
    "v_mc = np.exp(-r*T) * payouts / niterations\n",
    "t_mc = timeit.default_timer() - start"
   ]
  },
  {
   "cell_type": "code",
   "execution_count": 6,
   "metadata": {},
   "outputs": [
    {
     "data": {
      "image/png": "[encoded data removed]",
      "text/plain": [
       "<Figure size 432x288 with 1 Axes>"
      ]
     },
     "metadata": {
      "needs_background": "light"
     },
     "output_type": "display_data"
    }
   ],
   "source": [
    "plt.plot(xs, v_mc)\n",
    "plt.xlabel(\"Initial Price of Underlying Asset\")\n",
    "plt.ylabel(\"European Put Option Price\")\n",
    "plt.title(\"Monte Carlo\")\n",
    "plt.show()"
   ]
  },
  {
   "cell_type": "markdown",
   "metadata": {},
   "source": [
    "#### 2. Crank-Nicolson"
   ]
  },
  {
   "cell_type": "markdown",
   "metadata": {},
   "source": [
    "For constant volatility, we have\n",
    "\n",
    "$$\n",
    "\\begin{cases}\n",
    "D_{i, i-1}(k) = D_{i, i-1}(k+1) \\\\\n",
    "D_{i, i}(k) = D_{i, i}(k+1) \\\\\n",
    "D_{i, i+1}(k) = D_{i, i+1}(k+1) \\\\\n",
    "\\end{cases}\n",
    "$$\n",
    "\n",
    "for all $k$."
   ]
  },
  {
   "cell_type": "code",
   "execution_count": 7,
   "metadata": {},
   "outputs": [],
   "source": [
    "def D_crank_nicolson(xs):\n",
    "    # Formulate Matrix D in Crank-Nicolson Numerical Scheme\n",
    "    # xs = space paths\n",
    "    diagnoal = np.diag(np.array([r + lam + (sigma * xs[i])**2 / ((xs[i+1] - xs[i]) * (xs[i] - xs[i-1])) for i in range(1,n)]))\n",
    "    upper_diagonal = np.diag(np.array([(-(r - lam * zeta) * xs[i] * (xs[i+1] - xs[i]) - (sigma * xs[i])**2) / ((xs[i] - xs[i-1] + xs[i+1] - xs[i]) * (xs[i+1] - xs[i])) for i in range (1,n-1)]), 1)\n",
    "    lower_diagonal = np.diag(np.array([((r - lam * zeta) * xs[i] * (xs[i] - xs[i-1]) - (sigma * xs[i])**2) / ((xs[i] - xs[i-1] + xs[i+1] - xs[i]) * (xs[i] - xs[i-1])) for i in range (2,n)]), -1)\n",
    "    return diagnoal + upper_diagonal + lower_diagonal\n",
    "\n",
    "def A_crank_nicolson(ts, D, k):\n",
    "    # Formulate Matrix A in Crank-Nicolson Numerical Scheme\n",
    "    # ts = time paths\n",
    "    # D\n",
    "    # k = corresponding to time t_k\n",
    "    dt = ts[k+1] - ts[k]\n",
    "    dignoal = np.diag(np.array([-dt / 2]*(n-1)))\n",
    "    upper_diagonal = np.diag(np.array([-dt / 2]*(n-2)), 1)\n",
    "    lower_diagonal = np.diag(np.array([-dt / 2]*(n-2)), -1)\n",
    "    A = (dignoal + upper_diagonal + lower_diagonal) * D + np.diag(np.array([1]*(n-1)))\n",
    "    return A\n",
    "\n",
    "def B_crank_nicolson(ts, D, k):\n",
    "    # Formulate Matrix B in Crank-Nicolson Numerical Scheme\n",
    "    # ts = time paths\n",
    "    # D\n",
    "    # k = corresponding to time t_k\n",
    "    dt = ts[k+1] - ts[k]\n",
    "    dignoal = np.diag(np.array([dt / 2]*(n-1)))\n",
    "    upper_diagonal = np.diag(np.array([dt / 2]*(n-2)), 1)\n",
    "    lower_diagonal = np.diag(np.array([dt / 2]*(n-2)), -1)\n",
    "    B = (dignoal + upper_diagonal + lower_diagonal) * D + np.diag(np.array([1]*(n-1)))\n",
    "    return B\n",
    "\n",
    "def f_crank_nicolson(xs, ts, k):\n",
    "    # Formulate vector f in Crank-Nicolson Numerical Scheme\n",
    "    # xs = space paths\n",
    "    # ts = time paths\n",
    "    # k = corresponding to time t_k\n",
    "    f = np.zeros(n-1)\n",
    "    dt = ts[k+1] - ts[k]\n",
    "    f[0] = dt * ((r - lam * zeta) * xs[1] * (xs[1] - xs[0]) - (sigma * xs[1])**2) / ((xs[1] - xs[0] + xs[2] - xs[1]) * (xs[1] - xs[0])) * (np.exp(-r * (T - ts[k+1])) * K + np.exp(-r * (T - ts[k])) * K) / 2\n",
    "    return f\n",
    "\n",
    "def J_crank_nicolson(xs, k):\n",
    "    # Formulate Matrix J in Crank-Nicolson Numerical Scheme\n",
    "    # xs = space paths\n",
    "    # k = corresponding to time t_k\n",
    "    J = np.zeros([n-1, n-1])\n",
    "    q = 1 - p\n",
    "    for i in range(1,n-1):\n",
    "        temp = []\n",
    "        for j in range(1,i+1):\n",
    "            temp.append(q * alpha_2 * xs[i]**(-alpha_2) * xs[j]**(alpha_2 - 1) * (xs[j+1] - xs[j]))\n",
    "        for j in range(i+1, n):\n",
    "            temp.append(p * alpha_1 * xs[i]**(alpha_1) * xs[j]**(-alpha_1 - 1) * (xs[j+1] - xs[j]))\n",
    "        J[i, :] = np.array(temp)\n",
    "    return J\n",
    "\n",
    "def Crank_Nicolson(xs, ts, v_0):\n",
    "    # Crank-Nicolson \n",
    "    # xs = space paths\n",
    "    # ts = time paths\n",
    "    # v_0 = value of payout function at all space paths\n",
    "    v = v_0\n",
    "    D = D_crank_nicolson(xs)\n",
    "    for k in range(2, len(ts)):\n",
    "        k = len(ts) - k\n",
    "        A = A_crank_nicolson(ts, D, k)\n",
    "        B = B_crank_nicolson(ts, D, k)\n",
    "        f = f_crank_nicolson(xs, ts, k)\n",
    "        J = J_crank_nicolson(xs, k)\n",
    "        J_forward = J_crank_nicolson(xs, k+1)\n",
    "        v = np.linalg.inv(B + J) @ ((A + J_forward) @ v - f)\n",
    "    return v"
   ]
  },
  {
   "cell_type": "code",
   "execution_count": 8,
   "metadata": {},
   "outputs": [],
   "source": [
    "t_cns = []\n",
    "v_cns = []\n",
    "for i in range(len(ms)):\n",
    "    m = ms[i]\n",
    "    n = ns[i]\n",
    "    xs = gen_space_path(n, X, gamma, K)\n",
    "    xs = np.array(xs)[:,0]\n",
    "    ts = np.array(gen_time_path(m, T, alpha))\n",
    "    v_0 = np.clip(K - np.array(xs), 0, K - 0)[1:-1]\n",
    "    start = timeit.default_timer()\n",
    "    v_cn = Crank_Nicolson(xs, ts, v_0)\n",
    "    v_cn = np.insert(v_cn, 0, np.exp(-r * T))\n",
    "    v_cn = np.append(v_cn, 0)\n",
    "    v_cns.append(v_cn)\n",
    "    t_cns.append(timeit.default_timer() - start)"
   ]
  },
  {
   "cell_type": "code",
   "execution_count": 9,
   "metadata": {
    "scrolled": false
   },
   "outputs": [
    {
     "data": {
      "image/png": "[encoded data removed]",
      "text/plain": [
       "<Figure size 432x288 with 1 Axes>"
      ]
     },
     "metadata": {
      "needs_background": "light"
     },
     "output_type": "display_data"
    }
   ],
   "source": [
    "plt.plot(xs, v_cns[-1])\n",
    "plt.title(\"Crank-Nicolson\")\n",
    "plt.xlabel(\"Initial Price of Underlying Asset\")\n",
    "plt.ylabel(\"European Put Option Price\")\n",
    "plt.show()"
   ]
  },
  {
   "cell_type": "code",
   "execution_count": 10,
   "metadata": {},
   "outputs": [
    {
     "data": {
      "image/png": "[encoded data removed]",
      "text/plain": [
       "<Figure size 432x288 with 1 Axes>"
      ]
     },
     "metadata": {
      "needs_background": "light"
     },
     "output_type": "display_data"
    }
   ],
   "source": [
    "plt.plot(ms, t_cns)\n",
    "plt.xlabel(\"m\")\n",
    "plt.ylabel(\"time (s)\")\n",
    "plt.title(\"Running Time w.r.t # of Space Paths\")\n",
    "plt.show()"
   ]
  },
  {
   "cell_type": "markdown",
   "metadata": {},
   "source": [
    "#### 3. Rannacher time-stepping scheme"
   ]
  },
  {
   "cell_type": "markdown",
   "metadata": {},
   "source": [
    "$$\n",
    "\\begin{align}\n",
    "A_{i+1,j}^- &= \\left(\\frac{x_{i}}{x_{i+1}}\\right)^{\\alpha_2}A_{i,j}^- \\\\\n",
    "A_{i+1,j}^+ &= \\left(\\frac{x_{i+1}}{x_{i}}\\right)^{\\alpha_1}A_{i,j}^+ \\\\\n",
    "\\end{align}\n",
    "$$"
   ]
  },
  {
   "cell_type": "markdown",
   "metadata": {},
   "source": [
    "We continue the iteration until\n",
    "\n",
    "$$\n",
    "||v^l - v^{l+1}||_2 < 10^{-8}\n",
    "$$\n",
    "\n",
    "which is the same as paper."
   ]
  },
  {
   "cell_type": "code",
   "execution_count": 11,
   "metadata": {},
   "outputs": [],
   "source": [
    "def D_rannacher(xs):\n",
    "    # Formulate Matrix D in Rannacher time-stepping Numerical Scheme\n",
    "    # xs = space paths\n",
    "    d = np.array([r + lam + (sigma * xs[i])**2 / ((xs[i+1] - xs[i]) * (xs[i] - xs[i-1])) for i in range(1,n)])\n",
    "    d = np.insert(d, 0, r)\n",
    "    d = np.append(d, 1)\n",
    "    diagonal = np.diag(d)\n",
    "    ud = np.array([(-(r - lam * zeta) * xs[i] * (xs[i+1] - xs[i]) - (sigma * xs[i])**2) / ((xs[i] - xs[i-1] + xs[i+1] - xs[i]) * (xs[i+1] - xs[i])) for i in range (1,n)])\n",
    "    ud = np.insert(ud, 0, 0)\n",
    "    upper_diagonal = np.diag(ud, 1)\n",
    "    ld = np.array([((r - lam * zeta) * xs[i] * (xs[i] - xs[i-1]) - (sigma * xs[i])**2) / ((xs[i] - xs[i-1] + xs[i+1] - xs[i]) * (xs[i] - xs[i-1])) for i in range (1,n)])\n",
    "    ld = np.append(ld, 0)\n",
    "    lower_diagonal = np.diag(ld, -1)\n",
    "    return diagonal + upper_diagonal + lower_diagonal\n",
    "\n",
    "def R_rannacher(xs, v):\n",
    "    # Formulate Matrix R in Rannacher time-stepping Numerical Scheme\n",
    "    # xs = space paths\n",
    "    # v = value of v at all space paths at current time\n",
    "    R = np.zeros([n+1,n+1])\n",
    "    for i in range(1, n):\n",
    "        dx_j = xs[i] - xs[i-1]\n",
    "        first_element = p * xs[i] ** (-alpha_2) / (alpha_2 + 1) / (dx_j) * ((xs[i] ** (alpha_2 + 1) - (xs[i] + alpha_2 * dx_j) * xs[i-1]**alpha_2) * v[i-1] + (xs[i-1]**(alpha_2 + 1) - (xs[i-1] - alpha_2 * dx_j) * xs[i]**alpha_2) * v[i]) \n",
    "        temp = [first_element * (xs[k] / xs[k+1]) ** alpha_2 for k in range(i+1, n)]\n",
    "        temp = np.insert(temp, 0, first_element)\n",
    "        temp = np.append(temp, 0)\n",
    "        temp = np.insert(temp, 0, [0 for _ in range(i)])\n",
    "        R[:,i-1] += temp\n",
    "    for i in range(1, n):\n",
    "        dx_j = xs[i+1] - xs[i]\n",
    "        first_element = p * xs[i] ** (alpha_1) / (alpha_1 - 1) / (dx_j) * ((xs[i+1] ** (1 - alpha_1) - (xs[i+1] + alpha_1 * dx_j) * xs[i]**(-alpha_1)) * v[i] + (xs[i]**(1 - alpha_1) - (xs[i] + alpha_1 * dx_j) * xs[i+1]**(-alpha_1)) * v[i+1])\n",
    "        temp = [first_element * (xs[k+1] / xs[k]) ** (alpha_1) for k in range(1, i)]\n",
    "        temp = np.insert(temp, 0, first_element)\n",
    "        temp = np.insert(temp, 0, 0)\n",
    "        temp = np.append(temp, [0 for _ in range(n-i)])\n",
    "        R[:,i] += temp\n",
    "    return lam * R\n",
    "\n",
    "def B_rannacher(ts, D, R, theta, k):\n",
    "    # Formulate Matrix B in Rannacher time-stepping Numerical Scheme\n",
    "    # ts = time paths\n",
    "    # D\n",
    "    # R\n",
    "    # theta = scheme parameter\n",
    "    # k = corresponding to time t_k\n",
    "    return (np.identity(n+1) + theta[k-1] * (ts[k] - ts[k-1]) * (D - R))\n",
    "\n",
    "def b_rannacher(ts, D, R, v, theta, k):\n",
    "    # ts = time paths\n",
    "    # D\n",
    "    # R\n",
    "    # v = value of v at all space paths at current time\n",
    "    # theta = scheme parameter\n",
    "    # k = corresponding to time t_k\n",
    "    # Formulate vector b in Rannacher time-stepping Numerical Scheme\n",
    "    return (np.identity(n+1) - (1 - theta[k-1]) * (ts[k] - ts[k-1]) * (D - R)) @ v\n",
    "\n",
    "def T_rannacher(ts, D, theta, k):\n",
    "    # Formulate Matrix T in Rannacher time-stepping Numerical Scheme\n",
    "    return np.identity(n+1) + theta[k-1] * (ts[k] - ts[k-1]) * D\n",
    "\n",
    "def J_rannacher(ts, R, theta, k):\n",
    "    # Formulate Matrix J in Rannacher time-stepping Numerical Scheme\n",
    "    return -theta[k-1] * (ts[k] - ts[k-1]) * R\n",
    "\n",
    "def Rannacher_iterative(xs, ts, theta, v_0):\n",
    "    # Rannacher time-stepping scheme (Iterative method)\n",
    "    # v_0 = value of payout function at all space paths\n",
    "    v = v_0\n",
    "    D = D_rannacher(xs)\n",
    "    for k in range(m-1):\n",
    "        k = m - 1 - k\n",
    "        R = R_rannacher(xs, v)\n",
    "        b = b_rannacher(ts, D, R, v, theta, k)\n",
    "        while True:\n",
    "            T = T_rannacher(ts, D, theta, k)\n",
    "            J = J_rannacher(ts, R, theta, k)\n",
    "            v_new = np.linalg.inv(T) @ (b + J @ v)\n",
    "            if np.linalg.norm(v_new - v) < 1e-8:\n",
    "                v = v_new\n",
    "                break\n",
    "            v = v_new\n",
    "    return v\n",
    "\n",
    "def Rannacher(xs, ts, theta, v_0):\n",
    "    # Rannacher time-stepping scheme\n",
    "    # v_0 = value of payout function at all space paths\n",
    "    v = v_0\n",
    "    D = D_rannacher(xs)\n",
    "    for k in range(m-1):\n",
    "        k = m - 1 - k\n",
    "        R = R_rannacher(xs, v)\n",
    "        T = T_rannacher(ts, D, theta, k)\n",
    "        J = J_rannacher(ts, R, theta, k)\n",
    "        B = T - J\n",
    "        b = b_rannacher(ts, D, R, v, theta, k)\n",
    "        v = np.linalg.inv(B) @ b\n",
    "    return v"
   ]
  },
  {
   "cell_type": "code",
   "execution_count": 12,
   "metadata": {},
   "outputs": [],
   "source": [
    "t_rs = []\n",
    "v_rs = []\n",
    "for i in range(len(ms)):\n",
    "    m = ms[i]\n",
    "    n = ns[i]\n",
    "    xs = gen_space_path(n, X, gamma, K)\n",
    "    xs = np.array(xs)[:,0]\n",
    "    ts = np.array(gen_time_path(m, T, alpha))\n",
    "    v_0 = np.clip(K - np.array(xs), 0, K - 0)\n",
    "    theta = np.append([1/2] * (m-5), [1] * 4)\n",
    "    start = timeit.default_timer()\n",
    "    v_r = Rannacher(xs, ts, theta, v_0)\n",
    "    v_rs.append(v_r)\n",
    "    t_rs.append(timeit.default_timer() - start)"
   ]
  },
  {
   "cell_type": "code",
   "execution_count": 13,
   "metadata": {
    "scrolled": true
   },
   "outputs": [
    {
     "data": {
      "image/png": "[encoded data removed]",
      "text/plain": [
       "<Figure size 432x288 with 1 Axes>"
      ]
     },
     "metadata": {
      "needs_background": "light"
     },
     "output_type": "display_data"
    }
   ],
   "source": [
    "plt.plot(xs, v_rs[-1])\n",
    "plt.title(\"Rannacher time-stepping scheme\")\n",
    "plt.xlabel(\"Initial Price of Underlying Asset\")\n",
    "plt.ylabel(\"European Put Option Price\")\n",
    "plt.show()"
   ]
  },
  {
   "cell_type": "code",
   "execution_count": 14,
   "metadata": {},
   "outputs": [
    {
     "data": {
      "image/png": "[encoded data removed]",
      "text/plain": [
       "<Figure size 432x288 with 1 Axes>"
      ]
     },
     "metadata": {
      "needs_background": "light"
     },
     "output_type": "display_data"
    }
   ],
   "source": [
    "plt.plot(ms, t_rs)\n",
    "plt.xlabel(\"m\")\n",
    "plt.ylabel(\"time (s)\")\n",
    "plt.title(\"Running Time w.r.t # of Space Paths\")\n",
    "plt.show()"
   ]
  },
  {
   "cell_type": "code",
   "execution_count": 15,
   "metadata": {},
   "outputs": [],
   "source": [
    "t_ris = []\n",
    "v_ris = []\n",
    "for i in range(len(ms)):\n",
    "    m = ms[i]\n",
    "    n = ns[i]\n",
    "    xs = gen_space_path(n, X, gamma, K)\n",
    "    xs = np.array(xs)[:,0]\n",
    "    ts = np.array(gen_time_path(m, T, alpha))\n",
    "    v_0 = np.clip(K - np.array(xs), 0, K - 0)\n",
    "    theta = np.append([1/2] * (m-5), [1] * 4)\n",
    "    start = timeit.default_timer()\n",
    "    v_ri = Rannacher_iterative(xs, ts, theta, v_0)\n",
    "    v_ris.append(v_ri)\n",
    "    t_ris.append(timeit.default_timer() - start)"
   ]
  },
  {
   "cell_type": "code",
   "execution_count": 16,
   "metadata": {
    "scrolled": true
   },
   "outputs": [
    {
     "data": {
      "image/png": "[encoded data removed]",
      "text/plain": [
       "<Figure size 432x288 with 1 Axes>"
      ]
     },
     "metadata": {
      "needs_background": "light"
     },
     "output_type": "display_data"
    }
   ],
   "source": [
    "plt.plot(xs, v_ris[-1])\n",
    "plt.title(\"Rannacher time-stepping scheme (Iterative method)\")\n",
    "plt.xlabel(\"Initial Price of Underlying Asset\")\n",
    "plt.ylabel(\"European Put Option Price\")\n",
    "plt.show()"
   ]
  },
  {
   "cell_type": "code",
   "execution_count": 17,
   "metadata": {},
   "outputs": [
    {
     "data": {
      "image/png": "[encoded data removed]",
      "text/plain": [
       "<Figure size 432x288 with 1 Axes>"
      ]
     },
     "metadata": {
      "needs_background": "light"
     },
     "output_type": "display_data"
    }
   ],
   "source": [
    "plt.plot(ms, t_ris)\n",
    "plt.xlabel(\"m\")\n",
    "plt.ylabel(\"time (s)\")\n",
    "plt.title(\"Running Time w.r.t # of Space Paths\")\n",
    "plt.show()"
   ]
  },
  {
   "cell_type": "markdown",
   "metadata": {},
   "source": [
    "### European call option"
   ]
  },
  {
   "cell_type": "markdown",
   "metadata": {},
   "source": [
    "We can use the put-call parity to compute the price of a call option.\n",
    "\n",
    "$$\n",
    "v_c(t,x) = v_p(t,x) + x - Ke^{-r(T-t)}\n",
    "$$"
   ]
  },
  {
   "cell_type": "markdown",
   "metadata": {},
   "source": [
    "#### 1. Monte Carlo"
   ]
  },
  {
   "cell_type": "code",
   "execution_count": 18,
   "metadata": {},
   "outputs": [
    {
     "data": {
      "image/png": "[encoded data removed]",
      "text/plain": [
       "<Figure size 432x288 with 1 Axes>"
      ]
     },
     "metadata": {
      "needs_background": "light"
     },
     "output_type": "display_data"
    }
   ],
   "source": [
    "v_put = v_mc\n",
    "n = ns[0]\n",
    "xs = np.array(gen_space_path(n, X, gamma, K))[:,0]\n",
    "v_call = v_put + xs - np.ones(len(xs)) * K * np.exp(-r * T)\n",
    "plt.plot(xs, v_call)\n",
    "plt.xlabel(\"Initial Price of Underlying Asset\")\n",
    "plt.ylabel(\"European Call Option Price\")\n",
    "plt.title(\"Monte Carlo\")\n",
    "plt.show()"
   ]
  },
  {
   "cell_type": "markdown",
   "metadata": {},
   "source": [
    "#### 2. Crank-Nicolson"
   ]
  },
  {
   "cell_type": "code",
   "execution_count": 19,
   "metadata": {
    "scrolled": true
   },
   "outputs": [
    {
     "data": {
      "image/png": "[encoded data removed]",
      "text/plain": [
       "<Figure size 432x288 with 1 Axes>"
      ]
     },
     "metadata": {
      "needs_background": "light"
     },
     "output_type": "display_data"
    }
   ],
   "source": [
    "v_put = v_cns[-1]\n",
    "n = ns[-1]\n",
    "xs = np.array(gen_space_path(n, X, gamma, K))[:,0]\n",
    "v_call = v_put + xs - np.ones(len(xs)) * K * np.exp(-r * T)\n",
    "plt.plot(xs, v_call)\n",
    "plt.xlabel(\"Initial Price of Underlying Asset\")\n",
    "plt.ylabel(\"European Call Option Price\")\n",
    "plt.title(\"Crank-Nicolson\")\n",
    "plt.show()"
   ]
  },
  {
   "cell_type": "markdown",
   "metadata": {},
   "source": [
    "#### 3. Rannacher time-stepping scheme"
   ]
  },
  {
   "cell_type": "code",
   "execution_count": 20,
   "metadata": {},
   "outputs": [
    {
     "data": {
      "image/png": "[encoded data removed]",
      "text/plain": [
       "<Figure size 432x288 with 1 Axes>"
      ]
     },
     "metadata": {
      "needs_background": "light"
     },
     "output_type": "display_data"
    }
   ],
   "source": [
    "v_put = v_rs[-1]\n",
    "n = ns[-1]\n",
    "xs = np.array(gen_space_path(n, X, gamma, K))[:,0]\n",
    "v_call = v_put + xs - np.ones(len(xs)) * K * np.exp(-r * T)\n",
    "plt.plot(xs, v_call)\n",
    "plt.xlabel(\"Initial Price of Underlying Asset\")\n",
    "plt.ylabel(\"European Call Option Price\")\n",
    "plt.title(\"Rannacher time-stepping scheme\")\n",
    "plt.show()"
   ]
  },
  {
   "cell_type": "markdown",
   "metadata": {},
   "source": [
    "## Summary"
   ]
  },
  {
   "cell_type": "code",
   "execution_count": 21,
   "metadata": {},
   "outputs": [
    {
     "data": {
      "image/png": "[encoded data removed]",
      "text/plain": [
       "<Figure size 432x288 with 1 Axes>"
      ]
     },
     "metadata": {
      "needs_background": "light"
     },
     "output_type": "display_data"
    }
   ],
   "source": [
    "n = ns[0]\n",
    "xs = np.array(gen_space_path(n, X, gamma, K))[:,0]\n",
    "plt.plot(xs, v_mc, label=\"Monte Carlo\")\n",
    "n = ns[-1]\n",
    "xs = np.array(gen_space_path(n, X, gamma, K))[:,0]\n",
    "plt.plot(xs, v_cns[-1], label=\"Crank-Nicolson\")\n",
    "plt.plot(xs, v_rs[-1], label=\"Rannacher time-stepping scheme\")\n",
    "plt.plot(xs, v_ris[-1], label=\"Rannacher time-stepping scheme (Iterative method)\")\n",
    "plt.legend()\n",
    "plt.xlabel(\"Initial Price of Underlying Asset\")\n",
    "plt.ylabel(\"European Put Option Price\")\n",
    "plt.title(\"Monte Carlo vs Crank-Nicolson vs Rannacher time-stepping scheme (Iterative method)\")\n",
    "plt.show()"
   ]
  },
  {
   "cell_type": "markdown",
   "metadata": {},
   "source": [
    "From the graph, we can see all three methods produce similar results. For Rannacher time-stepping scheme (Iterative method), it seems that the result on the third entry of space grid is inaccurate. I am not sure about the reason though."
   ]
  },
  {
   "cell_type": "code",
   "execution_count": 22,
   "metadata": {},
   "outputs": [
    {
     "data": {
      "text/html": [
       "<div>\n",
       "<style scoped>\n",
       "    .dataframe tbody tr th:only-of-type {\n",
       "        vertical-align: middle;\n",
       "    }\n",
       "\n",
       "    .dataframe tbody tr th {\n",
       "        vertical-align: top;\n",
       "    }\n",
       "\n",
       "    .dataframe thead th {\n",
       "        text-align: right;\n",
       "    }\n",
       "</style>\n",
       "<table border=\"1\" class=\"dataframe\">\n",
       "  <thead>\n",
       "    <tr style=\"text-align: right;\">\n",
       "      <th></th>\n",
       "      <th>Monte Carlo</th>\n",
       "      <th>Crank-Nicolson</th>\n",
       "      <th>Rannacher time-stepping scheme</th>\n",
       "      <th>Rannacher time-stepping scheme (Iterative method)</th>\n",
       "    </tr>\n",
       "  </thead>\n",
       "  <tbody>\n",
       "    <tr>\n",
       "      <th>m=6, n=40</th>\n",
       "      <td>120.591</td>\n",
       "      <td>0.049112</td>\n",
       "      <td>0.030307</td>\n",
       "      <td>0.025849</td>\n",
       "    </tr>\n",
       "    <tr>\n",
       "      <th>m=10, n=80</th>\n",
       "      <td>N/A</td>\n",
       "      <td>0.224245</td>\n",
       "      <td>0.109148</td>\n",
       "      <td>0.144079</td>\n",
       "    </tr>\n",
       "    <tr>\n",
       "      <th>m=18, n=160</th>\n",
       "      <td>N/A</td>\n",
       "      <td>1.408028</td>\n",
       "      <td>0.580832</td>\n",
       "      <td>0.638293</td>\n",
       "    </tr>\n",
       "    <tr>\n",
       "      <th>m=34, n=320</th>\n",
       "      <td>N/A</td>\n",
       "      <td>10.760427</td>\n",
       "      <td>3.726253</td>\n",
       "      <td>4.518960</td>\n",
       "    </tr>\n",
       "    <tr>\n",
       "      <th>m=66, n=640</th>\n",
       "      <td>N/A</td>\n",
       "      <td>82.502172</td>\n",
       "      <td>26.398656</td>\n",
       "      <td>30.630756</td>\n",
       "    </tr>\n",
       "  </tbody>\n",
       "</table>\n",
       "</div>"
      ],
      "text/plain": [
       "            Monte Carlo  Crank-Nicolson  Rannacher time-stepping scheme  \\\n",
       "m=6, n=40       120.591        0.049112                        0.030307   \n",
       "m=10, n=80          N/A        0.224245                        0.109148   \n",
       "m=18, n=160         N/A        1.408028                        0.580832   \n",
       "m=34, n=320         N/A       10.760427                        3.726253   \n",
       "m=66, n=640         N/A       82.502172                       26.398656   \n",
       "\n",
       "             Rannacher time-stepping scheme (Iterative method)  \n",
       "m=6, n=40                                             0.025849  \n",
       "m=10, n=80                                            0.144079  \n",
       "m=18, n=160                                           0.638293  \n",
       "m=34, n=320                                           4.518960  \n",
       "m=66, n=640                                          30.630756  "
      ]
     },
     "execution_count": 22,
     "metadata": {},
     "output_type": "execute_result"
    }
   ],
   "source": [
    "pd.DataFrame(data = {\n",
    "    \"Monte Carlo\": [t_mc, \"N/A\", \"N/A\", \"N/A\", \"N/A\"],\n",
    "    \"Crank-Nicolson\": t_cns,\n",
    "    \"Rannacher time-stepping scheme\": t_rs,\n",
    "    \"Rannacher time-stepping scheme (Iterative method)\": t_ris\n",
    "}, index=[\"m=%s, n=%s\" % (ms[i], ns[i]) for i in range(len(ms))])"
   ]
  },
  {
   "cell_type": "markdown",
   "metadata": {},
   "source": [
    "From the table, we can see Rannacher time-stepping scheme has a huge advantage over speed. This is because we use the recursion formula for the integral term which reduces the operations and it's also cost-effective to compute the inverse a tridiagonal matrix."
   ]
  },
  {
   "cell_type": "markdown",
   "metadata": {},
   "source": [
    "## TODO"
   ]
  },
  {
   "cell_type": "markdown",
   "metadata": {},
   "source": [
    "- Compute the analytical solution of the model using the same parameters and Compare it with our numerial experiment.\n",
    "- Find the reason why Rannacher time-stepping scheme doesn't perform well on the first few entries."
   ]
  }
 ],
 "metadata": {
  "kernelspec": {
   "display_name": "Python 3",
   "language": "python",
   "name": "python3"
  },
  "language_info": {
   "codemirror_mode": {
    "name": "ipython",
    "version": 3
   },
   "file_extension": ".py",
   "mimetype": "text/x-python",
   "name": "python",
   "nbconvert_exporter": "python",
   "pygments_lexer": "ipython3",
   "version": "3.8.3"
  }
 },
 "nbformat": 4,
 "nbformat_minor": 4
}
